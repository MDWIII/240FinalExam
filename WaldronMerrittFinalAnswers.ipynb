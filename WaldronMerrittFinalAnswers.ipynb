{
 "cells": [
  {
   "cell_type": "markdown",
   "metadata": {},
   "source": [
    "# Physics 240 \n",
    "## Intermediate Physics Laboratory\n",
    "## FINAL EXAM\n",
    "\n",
    "### Instructions: \n",
    "Answer the following questions and typeset your answers within this notebook, \n",
    "using a mix of markdown and LaTeX code. Some of your work will likely be done\n",
    "by hand; for this work, make sure to turn in these calculations, but still put the \n",
    "answers in this Jupyter Notebook. \n",
    "\n",
    "Follow the steps below and answer the questions as indicated."
   ]
  },
  {
   "cell_type": "code",
   "execution_count": 1,
   "metadata": {
    "collapsed": false
   },
   "outputs": [
    {
     "data": {
      "text/html": [
       "<link href='http://fonts.googleapis.com/css?family=Fenix' rel='stylesheet' type='text/css'>\n",
       "<link href='http://fonts.googleapis.com/css?family=Alegreya+Sans:100,300,400,500,700,800,900,100italic,300italic,400italic,500italic,700italic,800italic,900italic' rel='stylesheet' type='text/css'>\n",
       "<link href='http://fonts.googleapis.com/css?family=Source+Code+Pro:300,400' rel='stylesheet' type='text/css'>\n",
       "<style>\n",
       "\n",
       "@font-face {\n",
       "    font-family: \"Computer Modern\";\n",
       "    src: url('http://mirrors.ctan.org/fonts/cm-unicode/fonts/otf/cmunss.otf');\n",
       "}\n",
       "\n",
       "\n",
       "#notebook_panel { /* main background */\n",
       "    background: rgb(245,245,245);\n",
       "}\n",
       "\n",
       "div.cell { /* set cell width */\n",
       "    width: 800px;\n",
       "}\n",
       "\n",
       "div #notebook { /* centre the content */\n",
       "    background: #fff; /* white background for content */\n",
       "    width: 1000px;\n",
       "    margin: auto;\n",
       "    padding-left: 0em;\n",
       "}\n",
       "\n",
       "#notebook li { /* More space between bullet points */\n",
       "margin-top:0.8em;\n",
       "}\n",
       "\n",
       "/* draw border around running cells */\n",
       "div.cell.border-box-sizing.code_cell.running {\n",
       "    border: 1px solid #111;\n",
       "}\n",
       "\n",
       "/* Put a solid color box around each cell and its output, visually linking them*/\n",
       "div.cell.code_cell {\n",
       "    background-color: rgb(256,256,256);\n",
       "    border-radius: 0px;\n",
       "    padding: 0.5em;\n",
       "    margin-left:1em;\n",
       "    margin-top: 1em;\n",
       "}\n",
       "\n",
       "\n",
       "div.text_cell_render{\n",
       "    font-family: 'Alegreya Sans' sans-serif;\n",
       "    line-height: 140%;\n",
       "    font-size: 125%;\n",
       "    font-weight: 400;\n",
       "    width:600px;\n",
       "    margin-left:auto;\n",
       "    margin-right:auto;\n",
       "}\n",
       "\n",
       "/* Formatting for header cells */\n",
       ".text_cell_render h1 {\n",
       "    font-family: 'Alegreya Sans', sans-serif;\n",
       "    font-style:regular;\n",
       "    font-weight: 200;\n",
       "    font-size: 45pt;\n",
       "    line-height: 100%;\n",
       "    color:#CD2305;\n",
       "    margin-bottom: 0.5em;\n",
       "    margin-top: 0.5em;\n",
       "    display: block;\n",
       "}\n",
       ".text_cell_render h2 {\n",
       "    font-family: 'Fenix', serif;\n",
       "    font-size: 22pt;\n",
       "    line-height: 100%;\n",
       "    margin-bottom: 0.1em;\n",
       "    margin-top: 0.3em;\n",
       "    display: block;\n",
       "}\n",
       "\n",
       ".text_cell_render h3 {\n",
       "    font-family: 'Fenix', serif;\n",
       "    margin-top:12px;\n",
       "\tfont-size: 16pt;\n",
       "    margin-bottom: 3px;\n",
       "    font-style: regular;\n",
       "}\n",
       "\n",
       ".text_cell_render h4 {    /*Use this for captions*/\n",
       "    font-family: 'Fenix', serif;\n",
       "    font-size: 2pt;\n",
       "    text-align: center;\n",
       "    margin-top: 0em;\n",
       "    margin-bottom: 2em;\n",
       "    font-style: regular;\n",
       "}\n",
       "\n",
       ".text_cell_render h5 {  /*Use this for small titles*/\n",
       "    font-family: 'Alegreya Sans', sans-serif;\n",
       "    font-weight: 300;\n",
       "    font-size: 16pt;\n",
       "    color: #CD2305;\n",
       "    font-style: italic;\n",
       "    margin-bottom: .5em;\n",
       "    margin-top: 0.5em;\n",
       "    display: block;\n",
       "}\n",
       "\n",
       ".text_cell_render h6 { /*use this for copyright note*/\n",
       "    font-family: 'Source Code Pro', sans-serif;\n",
       "    font-weight: 300;\n",
       "    font-size: 9pt;\n",
       "    line-height: 100%;\n",
       "    color: grey;\n",
       "    margin-bottom: 1px;\n",
       "    margin-top: 1px;\n",
       "}\n",
       "\n",
       "    .CodeMirror{\n",
       "            font-family: \"Source Code Pro\";\n",
       "\t\t\tfont-size: 90%;\n",
       "    }\n",
       "/*    .prompt{\n",
       "        display: None;\n",
       "    }*/\n",
       "\n",
       "\n",
       "    .warning{\n",
       "        color: rgb( 240, 20, 20 )\n",
       "        }\n",
       "</style>\n",
       "<script>\n",
       "    MathJax.Hub.Config({\n",
       "                        TeX: {\n",
       "                           extensions: [\"AMSmath.js\"],\n",
       "                           equationNumbers: { autoNumber: \"AMS\", useLabelIds: true}\n",
       "                           },\n",
       "                tex2jax: {\n",
       "                    inlineMath: [ ['$','$'], [\"\\\\(\",\"\\\\)\"] ],\n",
       "                    displayMath: [ ['$$','$$'], [\"\\\\[\",\"\\\\]\"] ]\n",
       "                },\n",
       "                displayAlign: 'center', // Change this to 'center' to center equations.\n",
       "                \"HTML-CSS\": {\n",
       "                    styles: {'.MathJax_Display': {\"margin\": 4}}\n",
       "                }\n",
       "        });\n",
       "</script>\n"
      ],
      "text/plain": [
       "<IPython.core.display.HTML object>"
      ]
     },
     "execution_count": 1,
     "metadata": {},
     "output_type": "execute_result"
    }
   ],
   "source": [
    "## This cell installs custom CSS Cell Styles obtained from \n",
    "## Prof. Lorena Barba at https://github.com/barbagroup/AeroPython \n",
    "from IPython.core.display import HTML\n",
    "def css_styling():\n",
    "    styles = open('styles/custom.css', 'r').read()\n",
    "    return HTML(styles)\n",
    "css_styling()"
   ]
  },
  {
   "cell_type": "markdown",
   "metadata": {},
   "source": [
    "## Step 1: Create a GitHub Repository and make an initial commit.\n",
    "    a. Create a folder in your Documents folder called LastnameFirstname240FinalExam.\n",
    "    b. Create a new repository within this folder called 240FinalExam\n",
    "    c. Save this file into the above folder as LastnameFirstnameAnswers.ipynb \n",
    "    d. You should then see an uncommitted change to the 240FinalExam repository; name this \"initial commit\"\n",
    "    and publish the changes.\n",
    "    \n",
    "For example, if your name was Albert Einstein, you'd create a folder called   \n",
    "    *EinsteinAlbert240FinalExam*,   \n",
    "then you would create a new GitHub repository (within this folder) called   \n",
    "    *240FinalExam*   \n",
    "and would save this file into the folder 240FinalExam as    \n",
    "    *EinsteinAlbertFinalAnswers.ipynb*   \n",
    "and upload the file to your github account. \n",
    "\n",
    "Hint: Once you complete steps (a) and (b), you can simply close and halt this notebook (from the Jupyter Notebook file menu, and use your file system browser to drag this file into the folder 240FinalExam. Then this file's existence should show up as as an uncommitted change which you can publish (after first labelling it as the initial commit, of course). \n",
    "\n",
    "All of the above may be easily done by using a GitHub Gui Client available for OSX, Linux, and Windoze at:\n",
    "https://github.com/gitterHQ/desktop\n",
    "\n",
    "For the following questions, I encourage you to make and publish a new commit after you finish each question.\n"
   ]
  },
  {
   "cell_type": "markdown",
   "metadata": {},
   "source": [
    "# Question 1\n",
    "## Statistical Uncertainty with dropped velociraptors\n",
    "\n",
    "<img src=\"Velociraptor.jpg\" width=150 height=150>\n",
    "\n",
    "A velociraptor is dropped from a height of 10.0 $\\pm$ 0.1 meters and the fall time   \n",
    "is measured to the nearest 0.01 seconds. This *experiment* is performed a dozen times with the following drop times in seconds obtained:   \n",
    "1.22, 1.39, 1.55, 1.43, 1.11, 1.64, 1.44, 1.33, 1.55, 1.49, 1.47, 1.35   \n",
    "Calculate the mean value of the drop time and the root mean square uncertainty, $\\Delta t_{rms}$. You may use python or---if you like suffering---your calculator. "
   ]
  },
  {
   "cell_type": "markdown",
   "metadata": {},
   "source": [
    "### Solution method :\n",
    "\n",
    "It looks as though we will be analysing some uncertanties and ploting. First, I will impot numpy, the uncertanties package and matplotlib. Next I will bring in some functions that Will and I used earlier this semester that helps unpack and plot the uncertanty arrays. "
   ]
  },
  {
   "cell_type": "code",
   "execution_count": 69,
   "metadata": {
    "collapsed": true
   },
   "outputs": [],
   "source": [
    "# Importing packages.\n",
    "import numpy as np\n",
    "import matplotlib.pyplot as plt\n",
    "% matplotlib inline\n",
    "import uncertainties as u\n",
    "from uncertainties import unumpy\n",
    "\n",
    "# We need to make a function to parse the uncertinty array and return a matplotlib plot:\n",
    "def unpack_uFloat_array(xuarray, yuarray):\n",
    "    # empty lists to condtain the data\n",
    "    xData = []\n",
    "    xError = []\n",
    "    yData = []\n",
    "    yError = []\n",
    "    \n",
    "    # step theough the array and unpack the values\n",
    "    for i in xuarray:\n",
    "        xData.append(i.n) # in the uncertinty package \"n\" takes the value of a ufloat\n",
    "        xError.append(i.s) # and \"s\" is the uncertinty\n",
    "    \n",
    "    # do the same for the y array\n",
    "    for i in yuarray:\n",
    "        yData.append(i.n)\n",
    "        yError.append(i.s)\n",
    "        \n",
    "    return(xData, yData, xError, yError)\n",
    "    \n",
    "def uFloat_errorbarr_plot(xuarray, yuarray, label = None, marker='.'):\n",
    "    \n",
    "    xData, yData, xError, yError = unpack_uFloat_array(xuarray, yuarray)\n",
    "        \n",
    "    # return a matplotlib figure.\n",
    "    return(plt.errorbar(xData, yData, xerr=xError, yerr=yError, fmt = marker,label = label))"
   ]
  },
  {
   "cell_type": "code",
   "execution_count": 70,
   "metadata": {
    "collapsed": false
   },
   "outputs": [
    {
     "name": "stdout",
     "output_type": "stream",
     "text": [
      "1.4142+/-0.0029 0.141330483462\n"
     ]
    }
   ],
   "source": [
    "t_data = [1.22, 1.39, 1.55, 1.43, 1.11, 1.64, 1.44, 1.33, 1.55, 1.49, 1.47, 1.35] #assign fall times to a variable\n",
    "Z = u.ufloat(10.0, 0.01) #assign fall distance and uncertainty to a variable\n",
    "T = unumpy.uarray(t_data, .01) # attach uncertanty in drop time to time array \n",
    "\n",
    "\n",
    "mean_T  =np.mean(T) # use numpy to calcualte the mean \n",
    "rms = np.std(t_data) #use numpy to calcualte the rms value\n",
    "\n",
    "print(mean_T, rms)"
   ]
  },
  {
   "cell_type": "markdown",
   "metadata": {},
   "source": [
    "### Question 1 Answer\n",
    "\n",
    "Mean time = $1.414 \\pm 0.003 s$   \n",
    "\n",
    "$\\Delta t_{rms}$ = 0.141 s"
   ]
  },
  {
   "cell_type": "markdown",
   "metadata": {},
   "source": [
    "# Question 2\n",
    "## Error Propagation; measuring g via dropped velociraptors\n",
    "\n",
    "Suppose you assume that the velociraptor drop experiment was used to determine the acceleration due to gravity. Using your knowledge of basic kinematics (and assuming\n",
    "no air resistance), calculate the experimental value of $g$ that you should report for this data."
   ]
  },
  {
   "cell_type": "markdown",
   "metadata": {},
   "source": [
    "### Solution Method:\n",
    "\n",
    "Since, $$v = gt$$ I will calculate $v$ by using the distance Z and dividing by the time it takes to fall $$v = \\frac{Z}{t} $$"
   ]
  },
  {
   "cell_type": "code",
   "execution_count": 71,
   "metadata": {
    "collapsed": false
   },
   "outputs": [
    {
     "name": "stdout",
     "output_type": "stream",
     "text": [
      "5.09+/-0.04\n"
     ]
    },
    {
     "name": "stderr",
     "output_type": "stream",
     "text": [
      "/Users/merrittwaldron/anaconda/lib/python3.4/site-packages/ipykernel/__main__.py:6: DeprecationWarning: using a non-integer number instead of an integer will result in an error in the future\n"
     ]
    }
   ],
   "source": [
    "# find little g \n",
    "v = [] #open list for velocity\n",
    "g = [] # open list for g values\n",
    "\n",
    "for i in T: #for loop itterates over T  W/ uncertainty array \n",
    "    v.append(Z/T[i.n]) # appends result of drop time Z divided by time T for each event\n",
    "    \n",
    "for i in range(len(v)): #for loop itterates over new array velocity v and appends to g velocity divided by average T\n",
    "    g.append(v[i]/mean_T)\n",
    "\n",
    "little_g = np.mean(g) #takes the average of little g array\n",
    "print (little_g)"
   ]
  },
  {
   "cell_type": "markdown",
   "metadata": {},
   "source": [
    "### Question 2 Answer\n",
    "\n",
    "g = 5.09 $\\pm 0.04 \\frac{m}{s^2}$"
   ]
  },
  {
   "cell_type": "markdown",
   "metadata": {},
   "source": [
    "# Question 3\n",
    "## Determining g with a point mass pendulum via plotting\n",
    "\n",
    "Suppose that you measure the period of a simple pendulum as a function of length   \n",
    "and obtain the following data:   \n",
    "\n",
    "Period Values ($\\pm 0.1$ s) =  0.50, 1.00, 1.50, 2.00, 2.50, 3.00, 3.50, 4.00, 4.50.   \n",
    "Length $(\\pm 0.03)$ m =  0.010,  0.025, 0.070,  0.10,  0.140, 0.230, 0.310, 0.350, 0.500   \n",
    "\n",
    "Knowing that the period of a simple pendulum is   \n",
    "$\\displaystyle T = 2π\\sqrt{\\frac{L}{g}}$   \n",
    "and use an appropriate graph, such that the plot:   \n",
    "\n",
    "    a. gives a straight line whose slope   \n",
    "       directly gives the value of g   \n",
    "    b. shows data points with error bars   \n",
    "    c. includes axes labels and units   \n",
    "    d. includes a best fit line to the data.   \n",
    "\n",
    "Note that you might not be on the earth when conducting this experiment.\n"
   ]
  },
  {
   "cell_type": "markdown",
   "metadata": {},
   "source": [
    "### Solution method:\n",
    "\n",
    "I will plot $\\big(\\frac{T}{2\\pi}^2\\big) g = L$"
   ]
  },
  {
   "cell_type": "code",
   "execution_count": 72,
   "metadata": {
    "collapsed": false
   },
   "outputs": [
    {
     "name": "stdout",
     "output_type": "stream",
     "text": [
      "(0.11816666666666667, -0.10263888888888889, 0.97076542850084246, 1.3669945005495252e-05, 0.011043265083466187)\n"
     ]
    },
    {
     "data": {
      "image/png": "[encoded data removed]",
      "text/plain": [
       "<matplotlib.figure.Figure at 0x1081d8438>"
      ]
     },
     "metadata": {},
     "output_type": "display_data"
    }
   ],
   "source": [
    "# to get straight line best fit import linregress \n",
    "from scipy.stats import linregress\n",
    "T_per =[] # emptu array to hold period data\n",
    "\n",
    "T_per_data = [0.50, 1.00, 1.50, 2.00, 2.50, 3.00, 3.50, 4.00, 4.50]\n",
    "L_data = [0.010, 0.025, 0.070, 0.10, 0.140, 0.230, 0.310, 0.350, 0.500]\n",
    "\n",
    "for i in range(len(T_per_data)): #create period array data \n",
    "    T_per.append((T_per_data[i]/2*np.pi)**2)\n",
    "    \n",
    "T_per = unumpy.uarray(T_per_data, 0.1) # attach uncertanty in time to period array \n",
    "L = unumpy.uarray(L_data, 0.03) # attach uncertainty to lengths\n",
    "\n",
    "    \n",
    "#unpack T and L data\n",
    "period, length, period_error, length_error = unpack_uFloat_array(T_per,L)\n",
    "\n",
    "# get the best fit line of period and length \n",
    "gravity = []\n",
    "m, b, rsq, pval, standarderror = linregress(period,length)\n",
    "print(linregress(period, length))\n",
    "for i in period:\n",
    "    gravity.append(m*i+b)\n",
    "    \n",
    "#plot the data\n",
    "plt.plot(period,gravity, label = 'slope = g = 0.118 ms^-2') #plot the data\n",
    "uFloat_errorbarr_plot(T_per, L) #errorbar plot using function built in question 1\n",
    "#axis labels and title\n",
    "plt.title('Determining g')\n",
    "plt.xlabel('period (s^2)')\n",
    "plt.ylabel('length (m)')\n",
    "plt.legend(loc = 'upper left')\n",
    "plt.show()\n"
   ]
  },
  {
   "cell_type": "markdown",
   "metadata": {},
   "source": [
    "### Question 3 Answer\n",
    "\n",
    "g $\\pm\\;\\Delta g = 0.118 \\pm 0.011$"
   ]
  },
  {
   "cell_type": "markdown",
   "metadata": {},
   "source": [
    "# Final Step for online portion\n",
    "## Final steps, then move on to written portion\n",
    "\n",
    "Now make sure to commit your changes to your master copy, but before doing so, place a link to your repository in the next cell.   "
   ]
  },
  {
   "cell_type": "markdown",
   "metadata": {},
   "source": [
    "Repository Link = "
   ]
  }
 ],
 "metadata": {
  "kernelspec": {
   "display_name": "Python 3",
   "language": "python",
   "name": "python3"
  },
  "language_info": {
   "codemirror_mode": {
    "name": "ipython",
    "version": 3
   },
   "file_extension": ".py",
   "mimetype": "text/x-python",
   "name": "python",
   "nbconvert_exporter": "python",
   "pygments_lexer": "ipython3",
   "version": "3.4.4"
  }
 },
 "nbformat": 4,
 "nbformat_minor": 0
}
